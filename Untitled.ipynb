{
 "cells": [
  {
   "cell_type": "code",
   "execution_count": 3,
   "metadata": {},
   "outputs": [],
   "source": [
    "string = 'file-000.pdf'\n",
    "token = string.split('.')"
   ]
  },
  {
   "cell_type": "code",
   "execution_count": 4,
   "metadata": {},
   "outputs": [
    {
     "name": "stdout",
     "output_type": "stream",
     "text": [
      "['file-000', 'pdf']\n"
     ]
    }
   ],
   "source": [
    "print(token)"
   ]
  },
  {
   "cell_type": "code",
   "execution_count": 46,
   "metadata": {},
   "outputs": [
    {
     "name": "stdout",
     "output_type": "stream",
     "text": [
      "['aaaaa', ' ', 'aaaaa ', '', ' bcdsds']\n"
     ]
    }
   ],
   "source": [
    "# file_ver = token[0].split('')\n",
    "import re\n",
    "tok = re.split(r'[`\\-=~!@#$%^&*()_+\\[\\]{};\\'\\\\:\"|<,./<>?]', string)\n",
    "# tok = re.findall(r'[`\\-=~!@#$%^&*()_+\\[\\]{};\\'\\\\:\"|<,./<>?]', string)\n",
    "print(tok)"
   ]
  },
  {
   "cell_type": "code",
   "execution_count": 53,
   "metadata": {},
   "outputs": [
    {
     "name": "stdout",
     "output_type": "stream",
     "text": [
      "['aaaaa', '', '', 'aaaaa', '', '', 'bcdsds']\n"
     ]
    }
   ],
   "source": [
    "string = 'aaaaa/ /aaaaa/ /bcdsds'\n",
    "tok = re.split(r'[/ /]', string)\n",
    "print(tok)"
   ]
  },
  {
   "cell_type": "code",
   "execution_count": 41,
   "metadata": {},
   "outputs": [
    {
     "name": "stdout",
     "output_type": "stream",
     "text": [
      "[['1mbpeer3.pdf' '1']\n",
      " ['2mbpeer3.pdf' '1']]\n",
      "1mbpeer3.pdf\n",
      "2mbpeer3.pdf\n"
     ]
    }
   ],
   "source": [
    "import numpy as np\n",
    "with open('log.txt') as f:\n",
    "    content = f.readlines()\n",
    "    content = [x.strip().split(',') for x in content]\n",
    "\n",
    "\n",
    "content = np.array(content)\n",
    "print(content)\n",
    "\n",
    "for i in content: print(i[0])"
   ]
  },
  {
   "cell_type": "code",
   "execution_count": 39,
   "metadata": {},
   "outputs": [
    {
     "name": "stdout",
     "output_type": "stream",
     "text": [
      "['1mbpeer3.pdf', 1]\n"
     ]
    }
   ],
   "source": [
    "test = [['1mbpeer3.pdf',1],['2mbpeer3.pdf',1]]\n",
    "filename = '1mbpeer3.pdf'\n",
    "\n",
    "print(test[0])\n",
    "\n",
    "# print(test)\n",
    "# np.max(test[0,:])\n",
    "# print(test[0,:])"
   ]
  },
  {
   "cell_type": "code",
   "execution_count": null,
   "metadata": {},
   "outputs": [],
   "source": []
  }
 ],
 "metadata": {
  "kernelspec": {
   "display_name": "Python 3",
   "language": "python",
   "name": "python3"
  },
  "language_info": {
   "codemirror_mode": {
    "name": "ipython",
    "version": 3
   },
   "file_extension": ".py",
   "mimetype": "text/x-python",
   "name": "python",
   "nbconvert_exporter": "python",
   "pygments_lexer": "ipython3",
   "version": "3.6.4"
  }
 },
 "nbformat": 4,
 "nbformat_minor": 2
}

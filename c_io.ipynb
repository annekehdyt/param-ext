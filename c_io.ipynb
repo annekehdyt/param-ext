{
 "cells": [
  {
   "cell_type": "code",
   "execution_count": 20,
   "metadata": {},
   "outputs": [],
   "source": [
    "import numpy as np"
   ]
  },
  {
   "cell_type": "code",
   "execution_count": 21,
   "metadata": {},
   "outputs": [],
   "source": [
    "import glob"
   ]
  },
  {
   "cell_type": "code",
   "execution_count": 31,
   "metadata": {},
   "outputs": [],
   "source": [
    "path = \"./dataset\"\n",
    "io_files = glob.glob(path+\"/io/*.txt\")\n",
    "nio_files = glob.glob(path+\"/nonio/*.txt\")"
   ]
  },
  {
   "cell_type": "code",
   "execution_count": 32,
   "metadata": {},
   "outputs": [],
   "source": [
    "X = []\n",
    "y = []\n",
    "for iof in io_files:\n",
    "        f = open(iof, 'r', encoding=\"utf8\")\n",
    "        line = f.read()\n",
    "        #line = line[:len(line)/2]\n",
    "        X.append(line)\n",
    "        y.append(1)\n",
    "        f.close()\n",
    "        \n",
    "for niof in nio_files:\n",
    "        f = open(niof, 'r', encoding=\"utf8\")\n",
    "        line = f.read()\n",
    "        #line = line[:len(line)/2]\n",
    "        X.append(line)\n",
    "        y.append(0)\n",
    "        f.close()\n",
    "\n",
    "y = np.array(y)"
   ]
  },
  {
   "cell_type": "code",
   "execution_count": 33,
   "metadata": {},
   "outputs": [
    {
     "data": {
      "text/plain": [
       "['main()\\n{\\n    void* buff = calloc(1024, 1);\\n    FILE* fh = fopen(\"filename.txt\", \"rt\");\\n    fwrite(buff, 1024,1, fh);\\n    fclose(fh);\\n}',\n",
       " 'main() \\n{\\n   FILE *fp;\\n   char buff[255];\\n\\n   fp = fopen(\"/tmp/test.txt\", \"r\");\\n   fscanf(fp, \"%s\", buff);\\n   printf(\"1 : %s\\\\n\", buff );\\n\\n   fgets(buff, 255, (FILE*)fp);\\n   printf(\"2: %s\\\\n\", buff );\\n   \\n   fgets(buff, 255, (FILE*)fp);\\n   printf(\"3: %s\\\\n\", buff );\\n   fclose(fp);\\n}',\n",
       " 'int main( )               \\n{\\n    float m, n ;\\n    printf ( \"\\\\nEnter some number for finding square \\\\n\");\\n    scanf ( \"%f\", &m ) ;\\n    n = square ( m ) ;                      \\n    printf ( \"\\\\nSquare of the given number %f is %f\",m,n );\\n}',\n",
       " 'int main(int argc, char* argv[] )\\n{\\n    printf( \"argc = %d\\\\n\", argc );\\n    for( int i = 0; i < argc; ++i ) {\\n        printf( \"argv[ %d ] = %s\\\\n\", i, argv[ i ] );\\n    }\\n}']"
      ]
     },
     "execution_count": 33,
     "metadata": {},
     "output_type": "execute_result"
    }
   ],
   "source": [
    "X"
   ]
  },
  {
   "cell_type": "code",
   "execution_count": 35,
   "metadata": {},
   "outputs": [
    {
     "data": {
      "text/plain": [
       "array([1, 1, 0, 0])"
      ]
     },
     "execution_count": 35,
     "metadata": {},
     "output_type": "execute_result"
    }
   ],
   "source": [
    "y"
   ]
  },
  {
   "cell_type": "code",
   "execution_count": 47,
   "metadata": {},
   "outputs": [],
   "source": [
    "# import re\n",
    "\n",
    "# X_tokenized = []\n",
    "\n",
    "# for x in X:\n",
    "#     token = re.findall(r\"\\w+|\\W\",x)\n",
    "#     X_tokenized.append(token)\n",
    "\n",
    "# X_tokenized = np.array(X_tokenized)\n",
    "# print(X_tokenized.shape)"
   ]
  },
  {
   "cell_type": "code",
   "execution_count": 53,
   "metadata": {},
   "outputs": [
    {
     "data": {
      "text/plain": [
       "{'1024': 0,\n",
       " '255': 1,\n",
       " 'argc': 2,\n",
       " 'argv': 3,\n",
       " 'buff': 4,\n",
       " 'calloc': 5,\n",
       " 'char': 6,\n",
       " 'fclose': 7,\n",
       " 'fgets': 8,\n",
       " 'fh': 9,\n",
       " 'file': 10,\n",
       " 'filename': 11,\n",
       " 'finding': 12,\n",
       " 'float': 13,\n",
       " 'fopen': 14,\n",
       " 'for': 15,\n",
       " 'fp': 16,\n",
       " 'fscanf': 17,\n",
       " 'fwrite': 18,\n",
       " 'given': 19,\n",
       " 'int': 20,\n",
       " 'is': 21,\n",
       " 'main': 22,\n",
       " 'nenter': 23,\n",
       " 'nsquare': 24,\n",
       " 'number': 25,\n",
       " 'of': 26,\n",
       " 'printf': 27,\n",
       " 'rt': 28,\n",
       " 'scanf': 29,\n",
       " 'some': 30,\n",
       " 'square': 31,\n",
       " 'test': 32,\n",
       " 'the': 33,\n",
       " 'tmp': 34,\n",
       " 'txt': 35,\n",
       " 'void': 36}"
      ]
     },
     "execution_count": 53,
     "metadata": {},
     "output_type": "execute_result"
    }
   ],
   "source": [
    "# X_tokenized[0]\n",
    "\n",
    "from sklearn.feature_extraction.text import CountVectorizer\n",
    "\n",
    "cv = CountVectorizer()\n",
    "\n",
    "cv.fit(X)\n",
    "\n",
    "cv.vocabulary_"
   ]
  },
  {
   "cell_type": "code",
   "execution_count": 59,
   "metadata": {},
   "outputs": [
    {
     "data": {
      "text/plain": [
       "(4, 37)"
      ]
     },
     "execution_count": 59,
     "metadata": {},
     "output_type": "execute_result"
    }
   ],
   "source": [
    "X_tr = cv.transform(X)\n",
    "X_tr.shape"
   ]
  },
  {
   "cell_type": "code",
   "execution_count": 65,
   "metadata": {},
   "outputs": [
    {
     "name": "stdout",
     "output_type": "stream",
     "text": [
      "1.0\n"
     ]
    }
   ],
   "source": [
    "from sklearn.linear_model import LogisticRegression\n",
    "\n",
    "clf = LogisticRegression()\n",
    "\n",
    "clf.fit(X_tr, y)\n",
    "\n",
    "print(clf.score(X_tr,y))"
   ]
  },
  {
   "cell_type": "code",
   "execution_count": 69,
   "metadata": {},
   "outputs": [
    {
     "ename": "TypeError",
     "evalue": "only size-1 arrays can be converted to Python scalars",
     "output_type": "error",
     "traceback": [
      "\u001b[1;31m---------------------------------------------------------------------------\u001b[0m",
      "\u001b[1;31mTypeError\u001b[0m                                 Traceback (most recent call last)",
      "\u001b[1;32m<ipython-input-69-778c22070ab5>\u001b[0m in \u001b[0;36m<module>\u001b[1;34m()\u001b[0m\n\u001b[0;32m      1\u001b[0m \u001b[0mword\u001b[0m \u001b[1;33m=\u001b[0m \u001b[0mcv\u001b[0m\u001b[1;33m.\u001b[0m\u001b[0mget_feature_names\u001b[0m\u001b[1;33m(\u001b[0m\u001b[1;33m)\u001b[0m\u001b[1;33m\u001b[0m\u001b[0m\n\u001b[0;32m      2\u001b[0m \u001b[1;32mfor\u001b[0m \u001b[0mi\u001b[0m \u001b[1;32min\u001b[0m \u001b[0mrange\u001b[0m\u001b[1;33m(\u001b[0m\u001b[0mlen\u001b[0m\u001b[1;33m(\u001b[0m\u001b[0mclf\u001b[0m\u001b[1;33m.\u001b[0m\u001b[0mcoef_\u001b[0m\u001b[1;33m)\u001b[0m\u001b[1;33m)\u001b[0m\u001b[1;33m:\u001b[0m\u001b[1;33m\u001b[0m\u001b[0m\n\u001b[1;32m----> 3\u001b[1;33m     \u001b[0mprint\u001b[0m\u001b[1;33m(\u001b[0m\u001b[1;34m\"%s\\t%f\"\u001b[0m \u001b[1;33m%\u001b[0m\u001b[1;33m(\u001b[0m\u001b[0mword\u001b[0m\u001b[1;33m[\u001b[0m\u001b[0mi\u001b[0m\u001b[1;33m]\u001b[0m\u001b[1;33m,\u001b[0m \u001b[0mclf\u001b[0m\u001b[1;33m.\u001b[0m\u001b[0mcoef_\u001b[0m\u001b[1;33m[\u001b[0m\u001b[0mi\u001b[0m\u001b[1;33m]\u001b[0m\u001b[1;33m)\u001b[0m\u001b[1;33m)\u001b[0m\u001b[1;33m\u001b[0m\u001b[0m\n\u001b[0m",
      "\u001b[1;31mTypeError\u001b[0m: only size-1 arrays can be converted to Python scalars"
     ]
    }
   ],
   "source": [
    "word = cv.get_feature_names()\n",
    "for i in range(len(clf.coef_)):\n",
    "    print(\"%s\\t%f\" %(word[i], clf.coef_[i]))"
   ]
  },
  {
   "cell_type": "code",
   "execution_count": 30,
   "metadata": {},
   "outputs": [],
   "source": [
    "# Count vectorizer\n",
    "\n"
   ]
  }
 ],
 "metadata": {
  "kernelspec": {
   "display_name": "Python 3",
   "language": "python",
   "name": "python3"
  },
  "language_info": {
   "codemirror_mode": {
    "name": "ipython",
    "version": 3
   },
   "file_extension": ".py",
   "mimetype": "text/x-python",
   "name": "python",
   "nbconvert_exporter": "python",
   "pygments_lexer": "ipython3",
   "version": "3.6.4"
  }
 },
 "nbformat": 4,
 "nbformat_minor": 2
}

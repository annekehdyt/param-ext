{
 "cells": [
  {
   "cell_type": "code",
   "execution_count": 20,
   "metadata": {},
   "outputs": [],
   "source": [
    "import numpy as np"
   ]
  },
  {
   "cell_type": "code",
   "execution_count": 21,
   "metadata": {},
   "outputs": [],
   "source": [
    "import glob"
   ]
  },
  {
   "cell_type": "code",
   "execution_count": 22,
   "metadata": {},
   "outputs": [],
   "source": [
    "path = \"./dataset\"\n",
    "io_files = glob.glob(path+\"/io/*.txt\")"
   ]
  },
  {
   "cell_type": "code",
   "execution_count": 23,
   "metadata": {},
   "outputs": [],
   "source": [
    "X = []\n",
    "y = []\n",
    "for iof in io_files:\n",
    "        f = open(iof, 'r', encoding=\"utf8\")\n",
    "        line = f.read()\n",
    "        #line = line[:len(line)/2]\n",
    "        X.append(line)\n",
    "        y.append(1)\n",
    "        f.close()\n",
    "\n",
    "y = np.array(y)"
   ]
  },
  {
   "cell_type": "code",
   "execution_count": 24,
   "metadata": {},
   "outputs": [
    {
     "data": {
      "text/plain": [
       "['main()\\n{\\n    void* buff = calloc(1024, 1);\\n    FILE* fh = fopen(\"filename.txt\", \"rt\");\\n    fwrite(buff, 1024,1, fh);\\n    fclose(fh);\\n}',\n",
       " 'main() \\n{\\n   FILE *fp;\\n   char buff[255];\\n\\n   fp = fopen(\"/tmp/test.txt\", \"r\");\\n   fscanf(fp, \"%s\", buff);\\n   printf(\"1 : %s\\\\n\", buff );\\n\\n   fgets(buff, 255, (FILE*)fp);\\n   printf(\"2: %s\\\\n\", buff );\\n   \\n   fgets(buff, 255, (FILE*)fp);\\n   printf(\"3: %s\\\\n\", buff );\\n   fclose(fp);\\n}']"
      ]
     },
     "execution_count": 24,
     "metadata": {},
     "output_type": "execute_result"
    }
   ],
   "source": [
    "X"
   ]
  },
  {
   "cell_type": "code",
   "execution_count": 29,
   "metadata": {},
   "outputs": [
    {
     "name": "stdout",
     "output_type": "stream",
     "text": [
      "['main()', '{', 'void*', 'buff', '=', 'calloc(1024,', '1);', 'FILE*', 'fh', '=', 'fopen(\"filename.txt\",', '\"rt\");', 'fwrite(buff,', '1024,1,', 'fh);', 'fclose(fh);', '}']\n"
     ]
    }
   ],
   "source": [
    "import tokenize\n",
    "import re\n",
    "\n",
    "token = X[0].split()\n",
    "print(token)"
   ]
  },
  {
   "cell_type": "code",
   "execution_count": 30,
   "metadata": {},
   "outputs": [],
   "source": [
    "# Count vectorizer\n",
    "\n"
   ]
  }
 ],
 "metadata": {
  "kernelspec": {
   "display_name": "Python 3",
   "language": "python",
   "name": "python3"
  },
  "language_info": {
   "codemirror_mode": {
    "name": "ipython",
    "version": 3
   },
   "file_extension": ".py",
   "mimetype": "text/x-python",
   "name": "python",
   "nbconvert_exporter": "python",
   "pygments_lexer": "ipython3",
   "version": "3.6.4"
  }
 },
 "nbformat": 4,
 "nbformat_minor": 2
}
